{
  "nbformat": 4,
  "nbformat_minor": 0,
  "metadata": {
    "colab": {
      "provenance": []
    },
    "kernelspec": {
      "name": "python3",
      "display_name": "Python 3"
    },
    "language_info": {
      "name": "python"
    }
  },
  "cells": [
    {
      "cell_type": "markdown",
      "source": [
        "1- given a list of numbers, write a program to find the mean of the numbers in list\n"
      ],
      "metadata": {
        "id": "vPRwtZdS4gWh"
      }
    },
    {
      "cell_type": "code",
      "source": [
        "# 1- given a list of numbers, write a program to find the mean of the numbers in list\n",
        "list1 = [1,2,3,4,5,1,2,5,6]\n",
        "mean = sum(list1)/len(list1)\n",
        "print(mean)"
      ],
      "metadata": {
        "id": "tNkGwh8skmYW"
      },
      "execution_count": null,
      "outputs": []
    },
    {
      "cell_type": "markdown",
      "source": [
        "2- given a list of numbers unsorted, write a program to find the median of the numbers in list\n"
      ],
      "metadata": {
        "id": "io8fjAkG4jVV"
      }
    },
    {
      "cell_type": "code",
      "source": [
        "# 2\n",
        "list2 = [1,2,3,4,5,1,2,5]\n",
        "list2.sort()\n",
        "n= len(list2)\n",
        "if n%2 ==0:\n",
        "  median = (list2[n//2+1] + list2[n//2 +2])/2\n",
        "elif n%3 ==0:\n",
        "  median = list2[(n+1)//2+1]\n",
        "\n",
        "print(median)\n"
      ],
      "metadata": {
        "id": "g83WZK9gnCuU"
      },
      "execution_count": null,
      "outputs": []
    },
    {
      "cell_type": "markdown",
      "source": [
        "3- from a list of numbers create 2 list , one containing only the even numbers and other only the odd numbers"
      ],
      "metadata": {
        "id": "6Vibnvh44n96"
      }
    },
    {
      "cell_type": "code",
      "source": [
        "# 3- from a list of numbers create 2 list , one containing only the even numbers and other only the odd numbers\n",
        "list3 = [1,2,3,4,5,6,7,8,9,10,11,12,13,14]\n",
        "list_even =[]\n",
        "list_odd =[]\n",
        "for i in list3:\n",
        "  if i%2 ==0:\n",
        "    list_even.append(i)\n",
        "  elif i%2 !=0:\n",
        "    list_odd.append(i)\n",
        "print(list_odd)\n",
        "print(list_even)"
      ],
      "metadata": {
        "id": "u322KQ4HtzYx"
      },
      "execution_count": null,
      "outputs": []
    },
    {
      "cell_type": "markdown",
      "source": [
        "4- create a dictionary to store following attributes of CSK\n",
        "key \"CSK\" ; attributes : team full name , captain , playing 11 for each match(name of players), oppenont name (assume there are 3 matches only against MI, RCB , GT ) and result won/loss\n"
      ],
      "metadata": {
        "id": "_Gm7j46H4sUE"
      }
    },
    {
      "cell_type": "code",
      "source": [
        "# 4 create a dictionary to store following attributes of CSK key \"CSK\" ; attributes : team full name , captain , playing 11 for each match(name of players), oppenont name (assume there are 3 matches only against MI, RCB , GT ) and result won/loss\n",
        "dict1 = {'CSK' : {'team_name':'Chennai Super Kings','Captain':'MS Dhoni','playing_5':[['player1','player2','player3','player4','player5'],\n",
        "                                                                                      ['player1','player2','player3','player4','player5'],\n",
        "                                                                                      ['player1','player2','player3','player4','player5']\n",
        "                                                                                      ],'opponents':['MI','RCB','GT'],'results':['Win','Loss','Win']}}\n"
      ],
      "metadata": {
        "id": "d2lhgj4j2Tgr"
      },
      "execution_count": null,
      "outputs": []
    },
    {
      "cell_type": "markdown",
      "source": [
        "5- in the previous dictonary add one more item for RCB. you can choose any 3 opponents.\n"
      ],
      "metadata": {
        "id": "c-gdaZ8A4v1N"
      }
    },
    {
      "cell_type": "code",
      "source": [
        "# 5- in the previous dictonary add one more item for RCB. you can choose any 3 opponents.\n",
        "dict1 = {'CSK' : {'team_name':'Chennai Super Kings','Captain':'MS Dhoni','playing_5':[['player1','player2','player3','player4','player5'],\n",
        "                                                                                      ['player1','player2','player3','player4','player5'],\n",
        "                                                                                      ['player1','player2','player3','player4','player5']\n",
        "                                                                                      ],'opponents':['MI','RCB','GT'],'results':['Win','Loss','Win']},\n",
        "         'RCB' : {'team_name':'Royal Challengers Bangalore','Captain':'Virat Kholi','playing_5':[['player1','player2','player3','player4','player5'],\n",
        "                                                                                      ['player1','player2','player3','player4','player5'],\n",
        "                                                                                      ['player1','player2','player3','player4','player5']\n",
        "                                                                                      ],'opponents':['MI','RCB','GT'],'results':['Win','Loss','Win']}}\n",
        "\n",
        "\n"
      ],
      "metadata": {
        "id": "CzbvXQJ16Kzm"
      },
      "execution_count": null,
      "outputs": []
    },
    {
      "cell_type": "markdown",
      "source": [
        "6- write a program to take a positive number as input from user. if the user enters negative number then keep promting him to enter positive number until he enters the positive number and then print the same\n"
      ],
      "metadata": {
        "id": "vKdHVpk745S-"
      }
    },
    {
      "cell_type": "code",
      "source": [
        "# 6\n",
        "while True:\n",
        "  input_number = int(input(\"Enter a Postive number : \"))\n",
        "  if input_number >= 0:\n",
        "    break\n",
        "print(input_number)"
      ],
      "metadata": {
        "id": "tYjwx6Rnu95C"
      },
      "execution_count": null,
      "outputs": []
    },
    {
      "cell_type": "markdown",
      "source": [
        "7- consider the below list of list conatins following information :\n",
        "\n",
        "1. The name of a university\n",
        "2. The total number of enrolled students\n",
        "3. The annual tuition fees\n",
        "\n",
        "universities = [\n",
        "['California Institute of Technology', 2175, 37704],\n",
        "['Harvard', 19627, 39849],\n",
        "['Massachusetts Institute of Technology', 10566, 40732],\n",
        "['Princeton', 7802, 37000],\n",
        "['Rice', 5879, 35551],\n",
        "['Stanford', 19535, 40569],\n",
        "['Yale', 11701, 40500]\n",
        "]\n",
        "\n",
        "write a program to print follwoing information :\n",
        "1- a list of all the universitites  : ['California Institute of Technology','Harvard',..so on]\n",
        "2- total number of student entrolled in all the unversities together\n",
        "3- mean of tuition fees\n"
      ],
      "metadata": {
        "id": "Tmfb6yb04_C3"
      }
    },
    {
      "cell_type": "code",
      "source": [
        "# 7\n",
        "universities = [ ['California Institute of Technology', 2175, 37704], ['Harvard', 19627, 39849], ['Massachusetts Institute of Technology', 10566, 40732], ['Princeton', 7802, 37000], ['Rice', 5879, 35551], ['Stanford', 19535, 40569], ['Yale', 11701, 40500] ]\n",
        "list_of_uni = []\n",
        "for i in universities:\n",
        "        list_of_uni.append(i[0])\n",
        "print(list_of_uni)\n",
        "# total_student entrolled in all the unversities together\n",
        "total_students = 0\n",
        "for i in universities:\n",
        "  total_students +=i[1]\n",
        "print(total_students)\n",
        "# 3- mean of tuition fees\n",
        "sum_fees = 0\n",
        "for i in universities:\n",
        "  sum_fees +=i[2]\n",
        "  mean = sum_fees/len(list_of_uni)\n",
        "print(mean)\n"
      ],
      "metadata": {
        "id": "8LfiBwTHBPX9"
      },
      "execution_count": null,
      "outputs": []
    },
    {
      "cell_type": "markdown",
      "source": [
        "8- write a program to convert above universities list to a dictionary. the keys should be the name of the university\n"
      ],
      "metadata": {
        "id": "YbmMVu0-5DkM"
      }
    },
    {
      "cell_type": "code",
      "source": [
        "# 8\n",
        "universities = [ ['California Institute of Technology', 2175, 37704], ['Harvard', 19627, 39849], ['Massachusetts Institute of Technology', 10566, 40732], ['Princeton', 7802, 37000], ['Rice', 5879, 35551], ['Stanford', 19535, 40569], ['Yale', 11701, 40500] ]\n",
        "dict_uni = {}\n",
        "for i in universities:\n",
        "  dict_uni[i[0]] = [i[1],i[2]]\n",
        "print(dict_uni)"
      ],
      "metadata": {
        "id": "UqYmeg1py-KC"
      },
      "execution_count": null,
      "outputs": []
    },
    {
      "cell_type": "markdown",
      "source": [
        "9-  write a program that reverses a given string. For example, if the input is \"Hello\" from user, the output should be \"olleH\""
      ],
      "metadata": {
        "id": "hdQ5m6N95HLN"
      }
    },
    {
      "cell_type": "code",
      "source": [
        "# 9\n",
        "input_string = input()\n",
        "reverse_string= input_string[::-1]\n",
        "print(reverse_string)\n"
      ],
      "metadata": {
        "id": "63uTwTBf9FiU"
      },
      "execution_count": null,
      "outputs": []
    },
    {
      "cell_type": "markdown",
      "source": [
        "10- write a program that finds the largest number in a list(unsorted) of integers without using sort/sorted method."
      ],
      "metadata": {
        "id": "rSwyBwxe5NKv"
      }
    },
    {
      "cell_type": "code",
      "source": [
        "# 10\n",
        "list4 = [1,2,3,4,5,11,2,5,6]\n",
        "largest_number = list4[0]\n",
        "for number in list4:\n",
        "  if number > largest_number:\n",
        "    largest_number = number\n",
        "print(largest_number)"
      ],
      "metadata": {
        "id": "CWBep_DE_7kj"
      },
      "execution_count": null,
      "outputs": []
    }
  ]
}