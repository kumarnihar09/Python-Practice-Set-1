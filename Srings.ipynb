{
  "nbformat": 4,
  "nbformat_minor": 0,
  "metadata": {
    "colab": {
      "provenance": []
    },
    "kernelspec": {
      "name": "python3",
      "display_name": "Python 3"
    },
    "language_info": {
      "name": "python"
    }
  },
  "cells": [
    {
      "cell_type": "markdown",
      "source": [
        "Note 1: when taking user input using input() you can pass prompt to the user example\n",
        "name=input(\"enter your name: \")\n",
        "\n",
        "Note 2: For assignments you might need to use some of the string methods that were not discussed in class. You can refer to below link for reference:\n",
        "\n",
        "https://www.w3schools.com/python/python_ref_string.asp\n",
        "\n",
        "\n",
        "1- write a program which takes 2 inputs from the user : weight(kg) and height(meter) and prints the BMI in the output.\n",
        "\n",
        "BMI = weight / (square of height)\n"
      ],
      "metadata": {
        "id": "aU9iFN392aZg"
      }
    },
    {
      "cell_type": "code",
      "source": [
        "weight = int(input('Enter the weight in kgs : '))\n",
        "height = float(input('Enter the height in meters : '))\n",
        "BMI = round(weight/height**2,2)\n",
        "print(BMI)"
      ],
      "metadata": {
        "id": "4HAQDCBZ2QPw"
      },
      "execution_count": null,
      "outputs": []
    },
    {
      "cell_type": "markdown",
      "source": [
        "2- write a program which takes the name of the user as input and replace all the occurence of character 'a' in the name to 'b' and print it.\n"
      ],
      "metadata": {
        "id": "0kR0ap0S2xs6"
      }
    },
    {
      "cell_type": "code",
      "source": [
        "name = input('Enter the name : ')\n",
        "new_name = name.replace('a','b')\n",
        "print(new_name)"
      ],
      "metadata": {
        "id": "yQkkbsQr2VZy"
      },
      "execution_count": null,
      "outputs": []
    },
    {
      "cell_type": "markdown",
      "source": [
        "3- write a program which takes 2 inputs from user as principle amount (int) and rate of annual interest (float) and print the expected total amount  after  2 years.\n",
        "\n",
        "example : principle : 100 , interest percent 10  then amount after 2 years will be : 100*1.1*1.1 = 121\n"
      ],
      "metadata": {
        "id": "Tx-qpTaE22pr"
      }
    },
    {
      "cell_type": "code",
      "source": [
        "principal = int(input('Please enter the Principal : '))\n",
        "rate = float(input('Please provide the rate : '))\n",
        "interest = (principal * rate * 2)/100\n",
        "print(interest)"
      ],
      "metadata": {
        "id": "2omYTQ7d2d6s"
      },
      "execution_count": null,
      "outputs": []
    },
    {
      "cell_type": "markdown",
      "source": [
        "4- write a program which takes city name from user input. irrespective of in which case user enters the city name, print the city name in camel case meaning first letter should be capital and rest in small.\n",
        "\n",
        "example : input : MYSORE ,  print - > Mysore\n"
      ],
      "metadata": {
        "id": "PKYXARji264J"
      }
    },
    {
      "cell_type": "code",
      "source": [
        "name = input('enter the word : ')\n",
        "new_name = name.capitalize()\n",
        "print(new_name)"
      ],
      "metadata": {
        "id": "NhEX58iB2hZB"
      },
      "execution_count": null,
      "outputs": []
    },
    {
      "cell_type": "markdown",
      "source": [
        "5- write a program which takes the name of the user as input and print the index of character 'a' in the string. if 'a' is not there then return -1.\n"
      ],
      "metadata": {
        "id": "Kk1TJcIt3DN6"
      }
    },
    {
      "cell_type": "code",
      "source": [
        "user_name = input('Enter the name of user : ')\n",
        "if 'a' in user_name:\n",
        "  print(user_name.index('a'))\n",
        "else:\n",
        "  print(-1)\n"
      ],
      "metadata": {
        "id": "-spHcvBb23MB"
      },
      "execution_count": null,
      "outputs": []
    },
    {
      "cell_type": "markdown",
      "source": [
        "6-  Display the number of letters in the below string\n",
        "my_word = \"antidisestablishmentarianism\"\n"
      ],
      "metadata": {
        "id": "vBKLSF3g3Hx6"
      }
    },
    {
      "cell_type": "code",
      "source": [
        "my_word = \"antidisestablishmentarianism\"\n",
        "len(my_word)"
      ],
      "metadata": {
        "id": "eOWDCwER45wr"
      },
      "execution_count": null,
      "outputs": []
    },
    {
      "cell_type": "markdown",
      "source": [
        "7- take 3 inputs from user : first name , last name and age . Display the information in below format\n",
        "exmaple\n",
        "first name : MOhit\n",
        "last name : sharma\n",
        "age 32\n",
        "\n",
        "Display : my name is Mohit Sharma and I am 32 years old.\n",
        "\n",
        "note that first letter of first name and last name both should be in capital letters and rest in small.\n"
      ],
      "metadata": {
        "id": "68xQhGIy3LKf"
      }
    },
    {
      "cell_type": "code",
      "source": [
        "first_name = (input('Enter the first name : '))\n",
        "last_name = input('Enter the last name : ')\n",
        "age = int(input('Enter the age : '))\n",
        "print(f'my name is {first_name.capitalize()} {last_name.capitalize()} and I am {age} years old.')"
      ],
      "metadata": {
        "id": "PZvkjWg15bJN"
      },
      "execution_count": null,
      "outputs": []
    },
    {
      "cell_type": "markdown",
      "source": [
        "8-take 3 inputs from user : first name , last name and company name. create the email alias for the user and display it.  Email alias is first 2 letters of first name , last 3 letters of last name and @company.com\n",
        "example\n",
        "first name : MOhit\n",
        "last name : sharma\n",
        "company : infosys\n",
        "\n",
        "Display : morma@infosys.com\n",
        "\n",
        "note full email id should -be in lower case\n",
        "\n"
      ],
      "metadata": {
        "id": "2oY8T_wo3QZk"
      }
    },
    {
      "cell_type": "code",
      "source": [
        "first_name = input('Enter the first name : ')\n",
        "last_name = input('Enter the last name : ')\n",
        "company = input('Enter the company : ')\n",
        "email = first_name[:2].lower() + last_name[-3:].lower() + '@' + company.lower() + '.com'\n",
        "print(email)"
      ],
      "metadata": {
        "id": "RaCuOvZu7fa-"
      },
      "execution_count": null,
      "outputs": []
    }
  ]
}