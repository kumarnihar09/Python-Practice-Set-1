{
  "nbformat": 4,
  "nbformat_minor": 0,
  "metadata": {
    "colab": {
      "provenance": []
    },
    "kernelspec": {
      "name": "python3",
      "display_name": "Python 3"
    },
    "language_info": {
      "name": "python"
    }
  },
  "cells": [
    {
      "cell_type": "code",
      "execution_count": 63,
      "metadata": {
        "id": "mlto1B9leTSb"
      },
      "outputs": [],
      "source": [
        "import numpy as np"
      ]
    },
    {
      "cell_type": "markdown",
      "source": [
        "1- Create a numpy array of shape (3, 4) and assign random integers between 1 and 10 to every element."
      ],
      "metadata": {
        "id": "Ol1wgZFCex6D"
      }
    },
    {
      "cell_type": "code",
      "source": [
        "array1 = np.random.randint(1,10,(3,4))\n",
        "print(array1)"
      ],
      "metadata": {
        "colab": {
          "base_uri": "https://localhost:8080/"
        },
        "id": "rvpgyKw8fE-3",
        "outputId": "7452587e-2146-4011-c14f-0f76f6a82045"
      },
      "execution_count": 64,
      "outputs": [
        {
          "output_type": "stream",
          "name": "stdout",
          "text": [
            "[[6 3 4 4]\n",
            " [5 5 7 9]\n",
            " [1 2 7 1]]\n"
          ]
        }
      ]
    },
    {
      "cell_type": "markdown",
      "source": [
        "2- Find the maximum value in the array created in step 1."
      ],
      "metadata": {
        "id": "45VJ9zg-f_09"
      }
    },
    {
      "cell_type": "code",
      "source": [
        "array2 =array1.copy()\n",
        "array_max = array2.max()\n",
        "print(array_max)"
      ],
      "metadata": {
        "colab": {
          "base_uri": "https://localhost:8080/"
        },
        "id": "K_CkK-t9f73G",
        "outputId": "d7c46da2-f0cc-4d85-cacd-c009d0cd709b"
      },
      "execution_count": 65,
      "outputs": [
        {
          "output_type": "stream",
          "name": "stdout",
          "text": [
            "9\n"
          ]
        }
      ]
    },
    {
      "cell_type": "markdown",
      "source": [
        "3- Calculate the mean value of each row in the array."
      ],
      "metadata": {
        "id": "fvAKxTpNgRt0"
      }
    },
    {
      "cell_type": "code",
      "source": [
        "array3 = array1.copy()\n",
        "array_mean = array3.mean(axis=1)\n",
        "print(array_mean)"
      ],
      "metadata": {
        "colab": {
          "base_uri": "https://localhost:8080/"
        },
        "id": "1IBYgasjgWjx",
        "outputId": "3178d9bd-a3d6-40bb-e208-d74d6cb3fd32"
      },
      "execution_count": 66,
      "outputs": [
        {
          "output_type": "stream",
          "name": "stdout",
          "text": [
            "[4.25 6.5  2.75]\n"
          ]
        }
      ]
    },
    {
      "cell_type": "markdown",
      "source": [
        "4- Reshape the array from step 1 into a shape of (2, 6)."
      ],
      "metadata": {
        "id": "53umsPPXg-aP"
      }
    },
    {
      "cell_type": "code",
      "source": [
        "array4 = array1.copy()\n",
        "array_reshape = array4.reshape(2,6)\n",
        "print(array_reshape)"
      ],
      "metadata": {
        "colab": {
          "base_uri": "https://localhost:8080/"
        },
        "id": "utgCB20HhEtP",
        "outputId": "51b8f997-50cf-46c8-e437-0a71269816f0"
      },
      "execution_count": 67,
      "outputs": [
        {
          "output_type": "stream",
          "name": "stdout",
          "text": [
            "[[6 3 4 4 5 5]\n",
            " [7 9 1 2 7 1]]\n"
          ]
        }
      ]
    },
    {
      "cell_type": "markdown",
      "source": [
        "5- Multiply each element in the array by 2."
      ],
      "metadata": {
        "id": "dAEtTG_DhWZ0"
      }
    },
    {
      "cell_type": "code",
      "source": [
        "array5 = array1.copy()\n",
        "array_mul = array5*2\n",
        "print(array_mul)"
      ],
      "metadata": {
        "colab": {
          "base_uri": "https://localhost:8080/"
        },
        "id": "qUuz1-1dhbBn",
        "outputId": "10dcfcb8-8a7a-4de1-d887-815da92df3ba"
      },
      "execution_count": 68,
      "outputs": [
        {
          "output_type": "stream",
          "name": "stdout",
          "text": [
            "[[12  6  8  8]\n",
            " [10 10 14 18]\n",
            " [ 2  4 14  2]]\n"
          ]
        }
      ]
    },
    {
      "cell_type": "markdown",
      "source": [
        "6- Create a numpy array with values ranging from 0 to 9. Extract the odd numbers from the array."
      ],
      "metadata": {
        "id": "NhY1vwKNhq8f"
      }
    },
    {
      "cell_type": "code",
      "source": [
        "array6 = np.arange(10)\n",
        "odd_number = array6[array6 % 3 == 0]\n",
        "print(odd_number)\n"
      ],
      "metadata": {
        "colab": {
          "base_uri": "https://localhost:8080/"
        },
        "id": "NvQOkiaPhsY_",
        "outputId": "4ba19275-2ea7-42f1-962a-150c9a35167f"
      },
      "execution_count": 69,
      "outputs": [
        {
          "output_type": "stream",
          "name": "stdout",
          "text": [
            "[0 3 6 9]\n"
          ]
        }
      ]
    },
    {
      "cell_type": "markdown",
      "source": [
        "7- Create a 3x3 identity matrix using numpy."
      ],
      "metadata": {
        "id": "cSLnfoVJkem0"
      }
    },
    {
      "cell_type": "code",
      "source": [
        "array7 = np.identity(3)\n",
        "print(array7)"
      ],
      "metadata": {
        "colab": {
          "base_uri": "https://localhost:8080/"
        },
        "id": "KqgCtIHqkkDL",
        "outputId": "51a660a8-6ac9-4b6d-c4fd-fd03ab5446e2"
      },
      "execution_count": 70,
      "outputs": [
        {
          "output_type": "stream",
          "name": "stdout",
          "text": [
            "[[1. 0. 0.]\n",
            " [0. 1. 0.]\n",
            " [0. 0. 1.]]\n"
          ]
        }
      ]
    },
    {
      "cell_type": "markdown",
      "source": [
        "8- Create a 5x5 array with random values and normalize it (subtract the mean and divide by the standard deviation of the array).\n"
      ],
      "metadata": {
        "id": "fCyreUYBle6b"
      }
    },
    {
      "cell_type": "code",
      "source": [
        "array8 = np.random.rand(5,5)\n",
        "mean = np.mean(array8)\n",
        "std = np.std(array8)\n",
        "normalize_array = (array8-mean)/std\n",
        "print(normalize_array)"
      ],
      "metadata": {
        "colab": {
          "base_uri": "https://localhost:8080/"
        },
        "id": "gopnUeAalf0Y",
        "outputId": "67b57f17-6490-4138-ab53-ac06d34e8893"
      },
      "execution_count": 71,
      "outputs": [
        {
          "output_type": "stream",
          "name": "stdout",
          "text": [
            "[[-1.63680184  0.17546147  1.21230711  0.29721096  0.25058878]\n",
            " [ 1.15282999 -0.82371885 -0.83346366 -0.93359354  1.10058386]\n",
            " [-1.11040565 -1.65781486 -1.2209569   0.01483571  0.87375484]\n",
            " [-0.37622912  0.13040462  1.15206125  0.21008873  0.14039181]\n",
            " [-0.59609659 -1.36494231  1.78674868  1.5635464   0.49320912]]\n"
          ]
        }
      ]
    },
    {
      "cell_type": "markdown",
      "source": [
        "9- Perform element-wise multiplication between two arrays of the same shape."
      ],
      "metadata": {
        "id": "JCEo7GzToAzk"
      }
    },
    {
      "cell_type": "code",
      "source": [
        "array1\n",
        "array5\n",
        "array_multiply = array1 * array5\n",
        "print(array_multiply)"
      ],
      "metadata": {
        "colab": {
          "base_uri": "https://localhost:8080/"
        },
        "id": "WwC-eHC-oG8A",
        "outputId": "f6fb65df-9768-4f44-d3e8-8172e65c1460"
      },
      "execution_count": 72,
      "outputs": [
        {
          "output_type": "stream",
          "name": "stdout",
          "text": [
            "[[36  9 16 16]\n",
            " [25 25 49 81]\n",
            " [ 1  4 49  1]]\n"
          ]
        }
      ]
    },
    {
      "cell_type": "markdown",
      "source": [
        "10 - Given an array of heights in centimeters, convert them to inches (1 inch = 2.54 cm).\n"
      ],
      "metadata": {
        "id": "NFJLYWTXqyOi"
      }
    },
    {
      "cell_type": "code",
      "source": [
        "heights_cm = np.array([160, 170, 180, 190])\n",
        "heights_inch = heights_cm / 2.54\n",
        "print(np.round(heights_inch,2))"
      ],
      "metadata": {
        "colab": {
          "base_uri": "https://localhost:8080/"
        },
        "id": "ZZEcP0JcqzLW",
        "outputId": "a3c7e134-bee6-4aea-ba16-b82c786c002a"
      },
      "execution_count": 73,
      "outputs": [
        {
          "output_type": "stream",
          "name": "stdout",
          "text": [
            "[62.99 66.93 70.87 74.8 ]\n"
          ]
        }
      ]
    },
    {
      "cell_type": "markdown",
      "source": [
        "11 - Create a 1D array of numbers from 0 to 9. Replace all odd numbers with -1.\n"
      ],
      "metadata": {
        "id": "t7wAdsGIrg4H"
      }
    },
    {
      "cell_type": "code",
      "source": [
        "array_1D = np.arange(10)\n",
        "array_1D\n",
        "array_1D[array_1D % 2 != 0 ] = -1\n",
        "print(array_1D)"
      ],
      "metadata": {
        "colab": {
          "base_uri": "https://localhost:8080/"
        },
        "id": "UBcAwwaWro6z",
        "outputId": "95c6aa64-76ea-4b6a-ef80-5a02632e6650"
      },
      "execution_count": 74,
      "outputs": [
        {
          "output_type": "stream",
          "name": "stdout",
          "text": [
            "[ 0 -1  2 -1  4 -1  6 -1  8 -1]\n"
          ]
        }
      ]
    },
    {
      "cell_type": "markdown",
      "source": [
        "12 - Create a 2D array with random values and find the indices of the maximum and minimum values."
      ],
      "metadata": {
        "id": "i0Y4h5mIuTw0"
      }
    },
    {
      "cell_type": "code",
      "source": [
        "array_2D = np.random.randn(3,4)\n",
        "print(array_2D)\n",
        "#array_2D.ndim\n",
        "#array_2D.dtype\n",
        "array_2D_max = np.unravel_index(np.argmax(array_2D),array_2D.shape)\n",
        "array_2D_min = np.unravel_index(np.argmin(array_2D),array_2D.shape)\n",
        "print(array_2D_max)\n",
        "print(array_2D_min)"
      ],
      "metadata": {
        "colab": {
          "base_uri": "https://localhost:8080/"
        },
        "id": "zVJiIs3GuZ0O",
        "outputId": "1d2636e8-f69b-449c-9076-388b8f4255f5"
      },
      "execution_count": 75,
      "outputs": [
        {
          "output_type": "stream",
          "name": "stdout",
          "text": [
            "[[ 0.31846396  0.55080875 -1.49474824 -1.12558987]\n",
            " [ 0.52027993 -1.00055054 -0.81995528 -0.01954176]\n",
            " [ 0.16088135  1.73574666  1.35508861 -2.01079385]]\n",
            "(2, 1)\n",
            "(2, 3)\n"
          ]
        }
      ]
    }
  ]
}