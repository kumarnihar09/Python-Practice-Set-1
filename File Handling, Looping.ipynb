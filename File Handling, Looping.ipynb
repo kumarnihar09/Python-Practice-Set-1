{
  "nbformat": 4,
  "nbformat_minor": 0,
  "metadata": {
    "colab": {
      "provenance": []
    },
    "kernelspec": {
      "name": "python3",
      "display_name": "Python 3"
    },
    "language_info": {
      "name": "python"
    }
  },
  "cells": [
    {
      "cell_type": "markdown",
      "source": [
        "1- create a txt file and put 4-5 lines. Now create another file from the previous file and at the end of each line put the count of words.\n",
        "\n",
        "example : file 1: this is namaste sql course this is python course this assinment is part of day4 lecture\n",
        "\n",
        "file2:this is namaste sql course:5 this is python course:4 this assignment is part of day4 lecture:7"
      ],
      "metadata": {
        "id": "kmuKmf4B8nUx"
      }
    },
    {
      "cell_type": "code",
      "source": [
        "#File 1\n",
        "with open(r'D:/File1.txt','w') as file1:\n",
        "    lines =[\n",
        "        \"this is namaste sql course\",\n",
        "        \"this is python course\",\n",
        "        \"this assignment is part of day4 lecture\"\n",
        "    ]\n",
        "    for line in lines:\n",
        "        file1.write(line + '\\n')\n",
        "\n",
        "#File2\n",
        "with open(r'D:/File1.txt','r') as file1, open(r'D:/File2.txt','w') as file2:\n",
        "    for line in file1:\n",
        "        line = line.strip()\n",
        "        word_count = len(line.split())\n",
        "        file2.write(line + ':' + str(word_count) + '\\n')"
      ],
      "metadata": {
        "id": "T9WNiJJhX-e6"
      },
      "execution_count": null,
      "outputs": []
    },
    {
      "cell_type": "markdown",
      "source": [
        "2- given below dictonaries of states and their capital:\n",
        "\n",
        "capitals_dict = { 'Alabama': 'Montgomery', 'Alaska': 'Juneau', 'Arizona': 'Phoenix', 'Arkansas': 'Little Rock', 'California': 'Sacramento', 'Colorado': 'Denver', 'Connecticut': 'Hartford', 'Delaware': 'Dover', 'Florida': 'Tallahassee', 'Georgia': 'Atlanta', }\n",
        "\n",
        "pick a state from above dictonary and ask user to enter the capital of the state.If the user answers incorrectly, then repeatedly ask them for the capital until they either enter the correct answer or type \"exit\". If the user answers correctly, then display \"Correct\" and end the program. However, if the user exits without guessing correctly, display the correct answer and the word \"Goodbye\".\n",
        "\n",
        "Note: Make sure the user isn’t punished for case sensitivity. In other words, a guess of \"Denver\" is the same as \"denver\". Do the same for exiting—\"EXIT\" and \"Exit\" should work the same as \"exit\"."
      ],
      "metadata": {
        "id": "0HPKCGG08giu"
      }
    },
    {
      "cell_type": "code",
      "source": [
        "capitals_dict = { 'Alabama': 'Montgomery', 'Alaska': 'Juneau', 'Arizona': 'Phoenix', 'Arkansas': 'Little Rock', 'California': 'Sacramento', 'Colorado': 'Denver', 'Connecticut': 'Hartford', 'Delaware': 'Dover', 'Florida': 'Tallahassee', 'Georgia': 'Atlanta', }\n",
        "state = input(\"Pick a state from the dictionary: \")\n",
        "state = state.capitalize()  # Convert the input to capitalize for case insensitivity\n",
        "while True:\n",
        "    if state in capitals_dict:\n",
        "        capital = capitals_dict[state]\n",
        "        while True:\n",
        "            guess = input(\"Enter the capital of {}: \".format(state))\n",
        "            guess = guess.capitalize()  # Convert the guess to capitalize for case insensitivity\n",
        "            if guess == capital:\n",
        "                print(\"Correct!\")\n",
        "                break\n",
        "            elif guess.lower() == 'exit':\n",
        "                print(\"The correct answer was: {}\".format(capital))\n",
        "                print(\"Goodbye!\")\n",
        "                break\n",
        "            else:\n",
        "                print(\"Incorrect. Try again or type 'exit' to quit.\")\n",
        "        break\n",
        "    else:\n",
        "        print(\"Invalid state. Please pick a state from the dictionary.\")\n",
        "\n",
        "        state = input(\"Pick a state from the dictionary: \")\n",
        "        state = state.capitalize()"
      ],
      "metadata": {
        "id": "ujsThycqLkpX"
      },
      "execution_count": null,
      "outputs": []
    },
    {
      "cell_type": "markdown",
      "source": [
        "3- write a program to take state as input from user and print the capital of the state using above dictonary. If the state is not there in dictonary then print \"sorry , information not available\""
      ],
      "metadata": {
        "id": "HvrvaOf5Z_tF"
      }
    },
    {
      "cell_type": "code",
      "source": [
        "capitals_dict = { 'Alabama': 'Montgomery', 'Alaska': 'Juneau', 'Arizona': 'Phoenix', 'Arkansas': 'Little Rock', 'California': 'Sacramento', 'Colorado': 'Denver', 'Connecticut': 'Hartford', 'Delaware': 'Dover', 'Florida': 'Tallahassee', 'Georgia': 'Atlanta', }\n",
        "state = input(\"Pick a state from the dictionary: \")\n",
        "state = state.capitalize()\n",
        "capital = capitals_dict.get(state)  #get will not give error if key not present\n",
        "if capital:\n",
        "  print(\"The capital of the {} is {}\".format(state,capital))\n",
        "else:\n",
        "  print('Sorry, information not available')\n"
      ],
      "metadata": {
        "id": "w5vANynlaBKJ"
      },
      "execution_count": null,
      "outputs": []
    },
    {
      "cell_type": "markdown",
      "source": [
        "4- Let say You have one 100 cats. One day, you decide to arrange all your cats in a giant circle. Initially,none of your cats has a hat on. You walk around the circle a 100 times, always starting with the first cat (cat #1). Each time you stop at a cat, you check if it has a hat on. If it doesn’t, then you put a hat on it. If it does, then you take the hat off.\n",
        "\n",
        "The first round, you stop at every cat, placing a hat on each one.\n",
        "The second round, you stop only at every second cat (#2, #4, #6, #8, and so on).\n",
        "The third round, you stop only at every third cat (#3, #6, #9, #12, and so on).\n",
        "You continue this process until you’ve made one hundred rounds around the cats. On the last round, you stop only at cat #100.\n",
        "Write a program that simply outputs which cats have hats at the end."
      ],
      "metadata": {
        "id": "AtjGbDOFhCRk"
      }
    },
    {
      "cell_type": "code",
      "source": [
        "array_of_cats = [False] * (100 + 1)\n",
        "cats_with_hats_on =[]\n",
        "for round in range(1,100+1):\n",
        "  for cat in range(1,100+1):\n",
        "    if cat % round == 0:\n",
        "      if array_of_cats[cat] is True:\n",
        "        array_of_cats[cat] = False\n",
        "\n",
        "      else:\n",
        "        array_of_cats[cat] = True\n",
        "for cat in range(1,100+1):\n",
        "  if array_of_cats[cat] is True:\n",
        "    cats_with_hats_on.append(cat)\n",
        "\n",
        "print(cats_with_hats_on)\n",
        "\n",
        "\n"
      ],
      "metadata": {
        "id": "aHUIwDkWhIej"
      },
      "execution_count": null,
      "outputs": []
    }
  ]
}