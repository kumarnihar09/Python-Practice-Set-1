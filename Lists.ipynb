{
  "nbformat": 4,
  "nbformat_minor": 0,
  "metadata": {
    "colab": {
      "provenance": []
    },
    "kernelspec": {
      "name": "python3",
      "display_name": "Python 3"
    },
    "language_info": {
      "name": "python"
    }
  },
  "cells": [
    {
      "cell_type": "markdown",
      "source": [
        "1- write a program which takes single input from user contaning first name,last name and age as comma separated value and display then in 3 lines in given format below.\n",
        "\n",
        "example user input : Ankit,Bansal,35\n",
        "\n",
        "output:\n",
        "First name is Ankit\n",
        "last name is Bansal\n",
        "Ankit is 35 years old\n",
        "\n",
        "note : do not hardcode name at any place\n"
      ],
      "metadata": {
        "id": "mHuKLkhf3ikK"
      }
    },
    {
      "cell_type": "code",
      "source": [
        "user_name = input()\n",
        "user_name_lst = user_name.split(',')\n",
        "print(f'First name is {user_name_lst[0]} last name is {user_name_lst[1]} {user_name_lst[0]} is {user_name_lst[2]} years old')"
      ],
      "metadata": {
        "id": "wVMaOQ-BTSpy"
      },
      "execution_count": null,
      "outputs": []
    },
    {
      "cell_type": "markdown",
      "source": [
        "2- given 2 list as list1= [1,3,4] and list2 = [2,4,6]\n",
        "\n",
        "combined the 2 list and diplay the same without using extend method\n"
      ],
      "metadata": {
        "id": "jLJgj20N3o-i"
      }
    },
    {
      "cell_type": "code",
      "source": [
        "list1= [1,3,4]\n",
        "list2 = [2,4,6]\n",
        "list = list1 + list2\n",
        "print(list)"
      ],
      "metadata": {
        "id": "ZUIxX2LhVwt5"
      },
      "execution_count": null,
      "outputs": []
    },
    {
      "cell_type": "markdown",
      "source": [
        "3- given a list list1=[1,2,3,4,5,6,7,8]\n",
        "diplay a new list which contains only odd position index values from above list.\n"
      ],
      "metadata": {
        "id": "DqwCWBre3vQQ"
      }
    },
    {
      "cell_type": "code",
      "source": [
        "list1=[1,2,3,4,5,6,7,8]\n",
        "new_list = []\n",
        "for i in list1:\n",
        "  if i%2!=0:\n",
        "    new_list.append(i)\n",
        "print(new_list)\n",
        "\n"
      ],
      "metadata": {
        "id": "M5mv4X0rYI5k"
      },
      "execution_count": null,
      "outputs": []
    },
    {
      "cell_type": "markdown",
      "source": [
        "4- ipl= ['CSK','MI','KKR','LSG','PBKS']\n",
        "\n",
        "take a ipl team name as input from user and display a list of all elements from that name.\n",
        "\n",
        "example : input : KKR\n",
        "output : ['KKR','LSG','PBKS']\n"
      ],
      "metadata": {
        "id": "u4iLwshp3zrl"
      }
    },
    {
      "cell_type": "code",
      "source": [
        "ipl= ['CSK','MI','KKR','LSG','PBKS']\n",
        "ipl_new = []\n",
        "input_team = input()\n",
        "if input_team in ipl:\n",
        "  print(ipl[ipl.index(input_team):])\n",
        "else:\n",
        "  print('wrong input')"
      ],
      "metadata": {
        "id": "pPfkpp27fXcF"
      },
      "execution_count": null,
      "outputs": []
    },
    {
      "cell_type": "markdown",
      "source": [
        "5- ipl= ['CSK','MI','KKR','LSG','PBKS']\n",
        "\n",
        "take a ipl team name as input from user and display a list of all elements except input one\n",
        "\n",
        "example : input : KKR\n",
        "output : ['CSK','MI','LSG','PBKS']\n"
      ],
      "metadata": {
        "id": "YU5HFYRC31VT"
      }
    },
    {
      "cell_type": "code",
      "source": [
        "ipl= ['CSK','MI','KKR','LSG','PBKS']\n",
        "input_team = input()\n",
        "if input_team in ipl:\n",
        "  ipl.remove(input_team)\n",
        "  print(ipl)\n",
        "else:\n",
        "  print('wrong input')"
      ],
      "metadata": {
        "id": "wrSRs00EhFlx"
      },
      "execution_count": null,
      "outputs": []
    },
    {
      "cell_type": "markdown",
      "source": [
        "6- ipl= ['CSK','MI','KKR','LSG','PBKS']\n",
        "take a user input contains 2 comma seprated values index,new_team . replace the index element of list with new value and display the same\n",
        "\n",
        "example : input : 2,SRH\n",
        "output : ['CSK','MI','SRH','LSG','PBKS']\n"
      ],
      "metadata": {
        "id": "S4r36LVe37N5"
      }
    },
    {
      "cell_type": "code",
      "source": [
        "ipl= ['CSK','MI','KKR','LSG','PBKS']\n",
        "input_values = input(\"Enter as commas separated values index,new_team : \")\n",
        "ipl[int(input_values.split(',')[0])] = input_values.split(',')[1]\n",
        "print(ipl)"
      ],
      "metadata": {
        "id": "d4cJkwLyjoFx"
      },
      "execution_count": null,
      "outputs": []
    },
    {
      "cell_type": "markdown",
      "source": [
        "7- ipl= ['CSK','MI','KKR','LSG','PBKS']\n",
        "take ipl team name as user input. display True if the team exists else display False.\n"
      ],
      "metadata": {
        "id": "i3lSl9Vb4Duv"
      }
    },
    {
      "cell_type": "code",
      "source": [
        "ipl= ['CSK','MI','KKR','LSG','PBKS']\n",
        "\n",
        "input_ipl = input()\n",
        "if input_ipl in ipl:\n",
        "  print('True')\n",
        "else:\n",
        "  print('False')\n",
        "# 8-ipl= ['CSK','MI','KKR','LSG','PBKS'] take a user input contains 2 comma seprated values index,new_team . Add the new value at that index in the list. Display the old list , new list,length of original and new list\n",
        "\n",
        "# example : input : 2,SRH output : old list : ['CSK','MI','KKR','LSG','PBKS'] and length 5 new list : ['CSK','MI','SRH','KKR',LSG','PBKS'] and length 6"
      ],
      "metadata": {
        "id": "7kWqXAl0k-pt"
      },
      "execution_count": null,
      "outputs": []
    },
    {
      "cell_type": "markdown",
      "source": [
        "8-ipl= ['CSK','MI','KKR','LSG','PBKS']\n",
        "take a user input contains 2 comma seprated values index,new_team . Add the new value at that index in the list.\n",
        "Display the old list , new list,length of original and new list\n",
        "\n",
        "example : input : 2,SRH\n",
        "output :\n",
        "old list : ['CSK','MI','KKR','LSG','PBKS'] and length 5\n",
        "new list : ['CSK','MI','SRH','KKR',LSG','PBKS'] and length 6\n"
      ],
      "metadata": {
        "id": "N_Rdx9MK4KA2"
      }
    },
    {
      "cell_type": "code",
      "source": [
        "import copy\n",
        "ipl= ['CSK','MI','KKR','LSG','PBKS']\n",
        "ipl_copy = copy.copy(ipl)\n",
        "input_new = input(\"Enter as commas separated values index,new_team : \")\n",
        "ipl_copy.insert(int(input_new.split(',')[0]),input_new.split(',')[1])\n",
        "print(ipl)\n",
        "print(ipl_copy)\n",
        "print(len(ipl))\n",
        "print(len(ipl_copy))"
      ],
      "metadata": {
        "id": "ebpbX8bIoDYh"
      },
      "execution_count": null,
      "outputs": []
    }
  ]
}