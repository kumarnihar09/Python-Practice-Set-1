{
  "nbformat": 4,
  "nbformat_minor": 0,
  "metadata": {
    "colab": {
      "provenance": []
    },
    "kernelspec": {
      "name": "python3",
      "display_name": "Python 3"
    },
    "language_info": {
      "name": "python"
    }
  },
  "cells": [
    {
      "cell_type": "markdown",
      "source": [
        "1- write a Python function which takes a positive number as input and return the factorial of the number."
      ],
      "metadata": {
        "id": "hJKOMDEOis6F"
      }
    },
    {
      "cell_type": "code",
      "execution_count": null,
      "metadata": {
        "id": "9mmkCqb3--o0",
        "colab": {
          "base_uri": "https://localhost:8080/"
        },
        "outputId": "3f09094d-a36c-47c6-f4f5-cea9ce39663e"
      },
      "outputs": [
        {
          "output_type": "execute_result",
          "data": {
            "text/plain": [
              "362880"
            ]
          },
          "metadata": {},
          "execution_count": 22
        }
      ],
      "source": [
        "def factorial(num):\n",
        "  if num == 1 or num == 0:\n",
        "    return 1\n",
        "  elif num < 0:\n",
        "    return -1\n",
        "  elif num >0:\n",
        "    fact = 1\n",
        "    while num > 0:\n",
        "      fact = fact * num\n",
        "      num = num -1\n",
        "    return fact\n",
        "\n",
        "factorial(9)\n",
        "\n"
      ]
    },
    {
      "cell_type": "markdown",
      "source": [
        "2- Write a Python function that accepts a string and counts the number of upper and lower case letters. Sample String : 'The quick Brow Fox' Expected Output : No. of Upper case characters : 3 No. of Lower case Characters : 12"
      ],
      "metadata": {
        "id": "cXaZK4M3xqTK"
      }
    },
    {
      "cell_type": "code",
      "source": [
        "def count(string):\n",
        "  upper =0\n",
        "  lower =0\n",
        "  for i in string:\n",
        "    if i.isupper():\n",
        "      upper +=1\n",
        "    if i.islower():\n",
        "      lower +=1\n",
        "  return upper,lower\n",
        "\n",
        "upper, lower = count('The quick Brow Fox')\n",
        "print('No. of Upper case characters:',upper)\n",
        "print('No. of lower case characters:',lower)"
      ],
      "metadata": {
        "colab": {
          "base_uri": "https://localhost:8080/"
        },
        "id": "e4c3cb-NrqY-",
        "outputId": "82910be8-d2d4-4d67-a473-7a1e9243322d"
      },
      "execution_count": null,
      "outputs": [
        {
          "output_type": "stream",
          "name": "stdout",
          "text": [
            "No. of Upper case characters: 3\n",
            "No. of lower case characters: 12\n"
          ]
        }
      ]
    },
    {
      "cell_type": "markdown",
      "source": [
        "3- Write a Python function that takes a list and returns a new list with distinct elements from the first list. Sample List : [1,2,3,3,3,3,4,5] Unique List : [1, 2, 3, 4, 5]"
      ],
      "metadata": {
        "id": "af1Ghl4Z5ukp"
      }
    },
    {
      "cell_type": "code",
      "source": [
        "def distinct_list(list):\n",
        "  new_list =[]\n",
        "  for num in list:\n",
        "    if num not in new_list:\n",
        "      new_list.append(num)\n",
        "  return new_list\n",
        "\n",
        "distinct_list([1,2,3,4,5,2,3,4,6,4,7,8,9,9,1,2])\n",
        "\n",
        "\n",
        "\n"
      ],
      "metadata": {
        "colab": {
          "base_uri": "https://localhost:8080/"
        },
        "id": "lpUfnxZV4Rha",
        "outputId": "ac3ba73e-2cbf-4238-9c6c-c7bcfc337ada"
      },
      "execution_count": null,
      "outputs": [
        {
          "output_type": "execute_result",
          "data": {
            "text/plain": [
              "[1, 2, 3, 4, 5, 6, 7, 8, 9]"
            ]
          },
          "metadata": {},
          "execution_count": 49
        }
      ]
    },
    {
      "cell_type": "markdown",
      "source": [
        "4- Write a Python function that checks whether a passed string is a palindrome or not. Note: A palindrome is a word, phrase, or sequence that reads the same backward as forward, e.g., madam."
      ],
      "metadata": {
        "id": "BicF7SZc97VV"
      }
    },
    {
      "cell_type": "code",
      "source": [
        "def palindrome(string):\n",
        "  if string == string[::-1]:\n",
        "    return True\n",
        "  else:\n",
        "    return False\n",
        "\n",
        "palindrome('madam')"
      ],
      "metadata": {
        "colab": {
          "base_uri": "https://localhost:8080/"
        },
        "id": "hDM-YwXs98XA",
        "outputId": "68a96f28-f724-4178-cd35-aa0796ce160e"
      },
      "execution_count": null,
      "outputs": [
        {
          "output_type": "execute_result",
          "data": {
            "text/plain": [
              "True"
            ]
          },
          "metadata": {},
          "execution_count": 47
        }
      ]
    },
    {
      "cell_type": "markdown",
      "source": [
        "5- Write a Python program that accepts a hyphen-separated sequence of words as input and prints the words in a hyphen-separated sequence after sorting them alphabetically. Sample Items : green-red-yellow-black-white Expected Result : black-green-red-white-yellow\n",
        "\n"
      ],
      "metadata": {
        "id": "9iccFWtYAyy2"
      }
    },
    {
      "cell_type": "code",
      "source": [
        "def sort_string(string):\n",
        "  word = sorted(string.split('-'))\n",
        "  sorted_string = '-'.join(word)\n",
        "  return sorted_string\n",
        "\n",
        "#\n",
        "sort_string('green-red-yellow-black-white')\n"
      ],
      "metadata": {
        "id": "iipIxZGkAz56"
      },
      "execution_count": null,
      "outputs": []
    },
    {
      "cell_type": "markdown",
      "source": [
        "6- write a python function that accepts a string and prints the count of occurence of each characters sample string: aabccda expected result: a -> 3 b-> 1 c-> 2 d -> 1"
      ],
      "metadata": {
        "id": "YcjAKUwBEoug"
      }
    },
    {
      "cell_type": "code",
      "source": [
        "def count_words(word):\n",
        "  count_occurence ={}\n",
        "  for char in word:\n",
        "    if char in count_occurence:\n",
        "      count_occurence[char] +=1\n",
        "\n",
        "    else:\n",
        "      count_occurence[char] = 1\n",
        "  for char, count in count_occurence.items():\n",
        "    print(char,'->',count)\n",
        "\n",
        "\n",
        "#\n",
        "word = input('Enter the word to be counted : ')\n",
        "count_words(word)\n"
      ],
      "metadata": {
        "id": "L8eLp2uJEusH"
      },
      "execution_count": null,
      "outputs": []
    },
    {
      "cell_type": "markdown",
      "source": [
        "7- write a function called is_prime that takes an integer as an argument and returns True if it is a prime number, and False otherwise."
      ],
      "metadata": {
        "id": "9Xu6RB2FHyE3"
      }
    },
    {
      "cell_type": "code",
      "source": [
        "def is_prime(number):\n",
        "  count =0\n",
        "  if number <=1:\n",
        "    return False\n",
        "  for i in range(1,number+1):\n",
        "\n",
        "    if number%i == 0:\n",
        "      count +=1\n",
        "  if count ==2:   # prime numbers has factor 1 and itself\n",
        "    return True\n",
        "  elif count >2:\n",
        "    return False\n",
        "\n",
        "#\n",
        "input_number = int(input(\"Enter a number: \"))\n",
        "if is_prime(input_number):\n",
        "    print(\"The number is prime.\")\n",
        "else:\n",
        "    print(\"The number is not prime.\")\n"
      ],
      "metadata": {
        "id": "YjSfnLbcHzFH"
      },
      "execution_count": null,
      "outputs": []
    },
    {
      "cell_type": "markdown",
      "source": [
        "8- write a function called generate_fibonacci that takes an integer n as input and returns a list of the first n Fibonacci numbers."
      ],
      "metadata": {
        "id": "J1kZYaCeLpwP"
      }
    },
    {
      "cell_type": "code",
      "source": [
        "def generate_fibonacci(n):\n",
        "  fibo_list =[]\n",
        "  if n!=0:\n",
        "    if n >= 1:\n",
        "        fibo_list.append(0)\n",
        "\n",
        "    if n >= 2:\n",
        "        fibo_list.append(1)\n",
        "        for i in range(2,n): #two elements of fibo already appended\n",
        "            fibo_list.append(fibo_list[i-1] + fibo_list[i-2])\n",
        "    return fibo_list\n",
        "  else:\n",
        "    return print('Enter number greater than 0')\n",
        "\n",
        "#\n",
        "n = int(input(\"Enter the n for first n Fibonacci numbers\"))\n",
        "generate_fibonacci(n)\n"
      ],
      "metadata": {
        "id": "yQZtKm-yLqk_"
      },
      "execution_count": null,
      "outputs": []
    },
    {
      "cell_type": "markdown",
      "source": [
        "9- Write a function called capitalize_odd_letters that takes a string as input and returns the same string with the odd-indexed letters capitalized."
      ],
      "metadata": {
        "id": "5Y8R_9AfLruq"
      }
    },
    {
      "cell_type": "code",
      "source": [
        "def capitalize_odd_letters(string):\n",
        "  capitalize_string=''\n",
        "  for i in range(len(string)):\n",
        "    if i % 2==1:               # to return odd positions\n",
        "        capitalize_string += string[i].upper()\n",
        "    else:\n",
        "        capitalize_string +=string[i]\n",
        "  return capitalize_string\n",
        "\n",
        "#\n",
        "capitalize_odd_letters('string')\n"
      ],
      "metadata": {
        "id": "Mh1RAc_9Lwcf"
      },
      "execution_count": null,
      "outputs": []
    },
    {
      "cell_type": "markdown",
      "source": [
        "10- write a function called find_common_elements that takes two lists as input and returns a new list containing the common elements between the two lists."
      ],
      "metadata": {
        "id": "PqYL6nsHXnoj"
      }
    },
    {
      "cell_type": "code",
      "source": [
        "def common_list(list1,list2):\n",
        "  common_list = []\n",
        "  for element in list1:\n",
        "    if element in list2:\n",
        "      common_list.append(element)\n",
        "  return common_list\n",
        "\n",
        "\n",
        "#\n",
        "input_string1 = input(\"Enter the list1 :\")\n",
        "input_string2 = input(\"Enter the list2 :\")\n",
        "list1 = input_string1.split(\",\")\n",
        "list2 = input_string2.split(\",\")\n",
        "common_list(list1,list2)\n",
        "\n",
        "\n"
      ],
      "metadata": {
        "id": "UXPJCHFNXoxI"
      },
      "execution_count": null,
      "outputs": []
    }
  ]
}